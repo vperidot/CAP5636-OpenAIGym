{
 "cells": [
  {
   "cell_type": "markdown",
   "metadata": {},
   "source": [
    "# Cart Pole: An explicit policy"
   ]
  },
  {
   "cell_type": "code",
   "execution_count": 12,
   "metadata": {
    "collapsed": true
   },
   "outputs": [],
   "source": [
    "import gym\n",
    "import numpy as np\n",
    "\n",
    "%matplotlib inline\n",
    "import matplotlib.pyplot as plt\n",
    "\n",
    "import time"
   ]
  },
  {
   "cell_type": "markdown",
   "metadata": {},
   "source": [
    "## Setup environment"
   ]
  },
  {
   "cell_type": "code",
   "execution_count": 13,
   "metadata": {},
   "outputs": [],
   "source": [
    "env = gym.make('CartPole-v1')"
   ]
  },
  {
   "cell_type": "code",
   "execution_count": 14,
   "metadata": {
    "collapsed": true
   },
   "outputs": [],
   "source": [
    "# actions aliases\n",
    "LEFT = 0\n",
    "RIGHT = 1"
   ]
  },
  {
   "cell_type": "code",
   "execution_count": 15,
   "metadata": {
    "collapsed": true
   },
   "outputs": [],
   "source": [
    "# set up the environment\n",
    "state = env.reset()\n",
    "total_reward = 0\n",
    "done = False"
   ]
  },
  {
   "cell_type": "markdown",
   "metadata": {},
   "source": [
    "## Policy\n",
    "\n",
    "If the pole's velocity is in the same direction it is leaning, the cart should move in the opposite direction to balance the pole; e.g., if the pole is leaning left and falling left, the cart should move right. If the pole's momentum is in the opposite direction of its angle (e.g., leaning left with a positive velocity), the cart should move in the direction of the velocity of the pole in order to slow it down.\n",
    "\n",
    "A small coushion on the velocity threshold (+/- 0.02) improves the behavior of the cart by briefly delaying its change of direction. I chose 0.02 after brief experimentation, starting at 0.01 and moving higher until the reward reached a maximum."
   ]
  },
  {
   "cell_type": "code",
   "execution_count": 50,
   "metadata": {
    "collapsed": true
   },
   "outputs": [],
   "source": [
    "def get_action(state):\n",
    "    # unpack the state\n",
    "    cart_pos, cart_vel, pole_angle, pole_vel = state\n",
    "    \n",
    "    # If the pole is leaning left...\n",
    "    if pole_angle <= 0:\n",
    "        if pole_vel <= 0.02: # and falling further\n",
    "            return LEFT\n",
    "        else:                 # and straightening up\n",
    "            return RIGHT\n",
    "    # If the pole is leaning right...\n",
    "    elif pole_angle > 0:\n",
    "        if pole_vel >= -0.02: # and falling further\n",
    "            return RIGHT\n",
    "        else:                # and straightening up\n",
    "            return LEFT"
   ]
  },
  {
   "cell_type": "markdown",
   "metadata": {},
   "source": [
    "## Run!"
   ]
  },
  {
   "cell_type": "code",
   "execution_count": 51,
   "metadata": {},
   "outputs": [],
   "source": [
    "def run_episode():\n",
    "    \n",
    "    # set up the environment\n",
    "    state = env.reset()\n",
    "    total_reward = 0\n",
    "    done = False\n",
    "    \n",
    "    # go!\n",
    "    while not done:\n",
    "        a = get_action(state)\n",
    "        #print(a, end=',')\n",
    "        state, reward, done, _ = env.step(a)\n",
    "        total_reward += reward\n",
    "        \n",
    "    #print(total_reward)\n",
    "    return total_reward   "
   ]
  },
  {
   "cell_type": "code",
   "execution_count": 52,
   "metadata": {},
   "outputs": [
    {
     "name": "stdout",
     "output_type": "stream",
     "text": [
      "500.0\n",
      "500.0\n",
      "500.0\n",
      "500.0\n",
      "500.0\n",
      "Averaged 500.0 over 5 episodes\n"
     ]
    }
   ],
   "source": [
    "num_episodes = 5\n",
    "rewards = []\n",
    "for i in range(num_episodes):\n",
    "    reward = run_episode()\n",
    "    print(reward)\n",
    "    rewards.append(reward)\n",
    "\n",
    "avg_reward = np.sum(rewards)/num_episodes\n",
    "print(\"Averaged {} over {} episodes\".format(avg_reward, num_episodes))"
   ]
  }
 ],
 "metadata": {
  "kernelspec": {
   "display_name": "Python 3",
   "language": "python",
   "name": "python3"
  },
  "language_info": {
   "codemirror_mode": {
    "name": "ipython",
    "version": 3
   },
   "file_extension": ".py",
   "mimetype": "text/x-python",
   "name": "python",
   "nbconvert_exporter": "python",
   "pygments_lexer": "ipython3",
   "version": "3.6.3"
  }
 },
 "nbformat": 4,
 "nbformat_minor": 2
}
