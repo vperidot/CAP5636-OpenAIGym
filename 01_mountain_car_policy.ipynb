{
 "cells": [
  {
   "cell_type": "markdown",
   "metadata": {},
   "source": [
    "# Mountain Car: An explicit policy"
   ]
  },
  {
   "cell_type": "code",
   "execution_count": 1,
   "metadata": {
    "collapsed": true
   },
   "outputs": [],
   "source": [
    "import gym\n",
    "import numpy as np\n",
    "\n",
    "%matplotlib inline\n",
    "import matplotlib.pyplot as plt\n",
    "\n",
    "import time"
   ]
  },
  {
   "cell_type": "markdown",
   "metadata": {},
   "source": [
    "## Setup environment"
   ]
  },
  {
   "cell_type": "code",
   "execution_count": 2,
   "metadata": {},
   "outputs": [
    {
     "name": "stdout",
     "output_type": "stream",
     "text": [
      "\u001b[33mWARN: gym.spaces.Box autodetected dtype as <class 'numpy.float32'>. Please provide explicit dtype.\u001b[0m\n"
     ]
    }
   ],
   "source": [
    "env = gym.make(\"MountainCar-v0\")"
   ]
  },
  {
   "cell_type": "code",
   "execution_count": 3,
   "metadata": {
    "collapsed": true
   },
   "outputs": [],
   "source": [
    "LEFT = 0\n",
    "STAY = 1\n",
    "RIGHT = 2"
   ]
  },
  {
   "cell_type": "markdown",
   "metadata": {},
   "source": [
    "## Policy\n",
    "\n",
    "This policy is extremely straightforward: The car should \"lean in\" to whichever direction it is traveling until \"gravity\" causes its direction to change. As soon as its velocity changes sign/direction, the car should also change its direction. In this way, it shoud gain momentum rolling up and down the hills until it can reach the goal."
   ]
  },
  {
   "cell_type": "code",
   "execution_count": 4,
   "metadata": {
    "collapsed": true
   },
   "outputs": [],
   "source": [
    "def get_action(state):\n",
    "    position, velocity = state\n",
    "    if velocity <= 0:\n",
    "        return LEFT\n",
    "    return RIGHT"
   ]
  },
  {
   "cell_type": "markdown",
   "metadata": {},
   "source": [
    "## Run!"
   ]
  },
  {
   "cell_type": "code",
   "execution_count": 5,
   "metadata": {},
   "outputs": [],
   "source": [
    "def run_episode():\n",
    "    \n",
    "    # set up the environment\n",
    "    state = env.reset()\n",
    "    total_reward = 0\n",
    "    done = False\n",
    "    \n",
    "    # go!\n",
    "    while not done:\n",
    "        a = get_action(state)\n",
    "        #print(a, end=',')\n",
    "        state, reward, done, _ = env.step(a)\n",
    "        total_reward += reward\n",
    "        \n",
    "    #print(total_reward)\n",
    "    return total_reward   "
   ]
  },
  {
   "cell_type": "code",
   "execution_count": 6,
   "metadata": {},
   "outputs": [
    {
     "name": "stdout",
     "output_type": "stream",
     "text": [
      "-87.0\n",
      "-154.0\n",
      "-95.0\n",
      "-88.0\n",
      "-157.0\n",
      "Averaged -116.2 over 5 episodes\n"
     ]
    }
   ],
   "source": [
    "num_episodes = 5\n",
    "rewards = []\n",
    "for i in range(num_episodes):\n",
    "    reward = run_episode()\n",
    "    print(reward)\n",
    "    rewards.append(reward)\n",
    "\n",
    "avg_reward = np.sum(rewards)/num_episodes\n",
    "print(\"Averaged {} over {} episodes\".format(avg_reward, num_episodes))"
   ]
  }
 ],
 "metadata": {
  "kernelspec": {
   "display_name": "Python 3",
   "language": "python",
   "name": "python3"
  },
  "language_info": {
   "codemirror_mode": {
    "name": "ipython",
    "version": 3
   },
   "file_extension": ".py",
   "mimetype": "text/x-python",
   "name": "python",
   "nbconvert_exporter": "python",
   "pygments_lexer": "ipython3",
   "version": "3.6.3"
  }
 },
 "nbformat": 4,
 "nbformat_minor": 2
}
